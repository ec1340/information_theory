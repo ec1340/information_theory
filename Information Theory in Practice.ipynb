{
 "cells": [
  {
   "cell_type": "code",
   "execution_count": 1,
   "metadata": {
    "collapsed": false
   },
   "outputs": [],
   "source": [
    "from __future__ import division #for float divisors\n",
    "from string import ascii_lowercase #for alphabet\n",
    "import matplotlib.pyplot as plt #plotting\n",
    "\n",
    "import re #regex utility\n",
    "from collections import Counter #max values of dictionary\n",
    "\n",
    "import numpy as np\n",
    "from numpy import matrix #matrix operations\n",
    "import pandas as pd\n",
    "from collections import OrderedDict as odict\n",
    "\n",
    "import pykov #markov chains\n",
    "import itertools"
   ]
  },
  {
   "cell_type": "markdown",
   "metadata": {},
   "source": [
    "### In this notebook, we will recreate Claude Shannon's Approximations from \"A Mathmatical Theory of Communication\""
   ]
  },
  {
   "cell_type": "markdown",
   "metadata": {},
   "source": [
    "\n",
    "![markov_chain](shan_img_1.png)\n",
    "\n",
    "\n",
    "---\n",
    "\n",
    "In Claude Shannon's landmark 1948 paper *A Mathematical Theory of Communication*, he uses a series of approximations to generate strings of text. This is done by treating the language as a stochastic process where the presence of each letter is determined by the letter(s) that proceed it.\n",
    "\n",
    "These approximations utilize each letters frequency in text as well as their relative probabilities. \n",
    "\n",
    "#### Overview of Approximations\n",
    "\n",
    "- **Zero-Order Approximation**\n",
    "\n",
    "The probabilities of each letter occuring are equal meaning each letter is equally likely to appear in a word. This means that a sequence of letter is in effect randomly generated.\n",
    "\n",
    "\n",
    "- **First-Order Approximation** \n",
    "\n",
    "The probability of each letter occuring is solely dependent on its relative frequency in the source text. This means that a sequence is generated in a way that reflects the letter's odds of appearing. \n",
    "\n",
    "\n",
    "- **Second-Order Approximation**\n",
    "\n",
    "The probability of each letter occuring is dependent on the letter that direclty precedes it. A sequence is effectly generated using a Markov Chain\n",
    "\n",
    "\n",
    "- **Third-Order Approximation**\n",
    "\n",
    "The probability of each letter occuring is dependent on the 2 letters that precede it. A sequence can be generated using a Markov chain. "
   ]
  },
  {
   "cell_type": "markdown",
   "metadata": {},
   "source": [
    "### Our source text: Chapter 1 of *Moby Dick*\n"
   ]
  },
  {
   "cell_type": "markdown",
   "metadata": {},
   "source": [
    "# Goals\n",
    "\n",
    "___\n",
    "\n",
    "\n",
    "### 1) Re-create Shannon's results using a series of approximations\n",
    "\n",
    "### 2) Use additional statistical methods to see if we achieve better results*\n",
    "\n",
    "**will be completed on a seperate jupyter notebook*"
   ]
  },
  {
   "cell_type": "markdown",
   "metadata": {},
   "source": [
    "So let's get to it!"
   ]
  },
  {
   "cell_type": "markdown",
   "metadata": {},
   "source": [
    "## 1) Recreating Shannon's Results\n",
    "\n",
    "___ \n",
    "\n",
    "We will do this by using a series of approximations, in the following order\n",
    "\n",
    "### [1.1 Zero-order approximation ](#section1.1)\n",
    "\n",
    "### [1.2 First-order approximation](#section1.2)\n",
    "\n",
    "### [1.3 Second-order approximation](#section1.3) \n",
    "\n",
    "### [1.4 Third-order approximation](#section1.4)\n",
    "\n",
    "### [Results](#section1.5)\n",
    "\n",
    "### [Future Directions](#section1.6)\n",
    "---"
   ]
  },
  {
   "cell_type": "markdown",
   "metadata": {},
   "source": [
    " <a name=\"section1.1\"></a> \n",
    "## 1.1 Zero-Order Approximation\n",
    "\n",
    "___"
   ]
  },
  {
   "cell_type": "markdown",
   "metadata": {},
   "source": [
    "In this approximation, Shannon writes:\n",
    "\n",
    "**\"The zero-order approximation is obtained by choosing all letters with the same probability and independently.\"**\n",
    "\n",
    "That is, for a 27 character alphabet (26 letters + a space), each character will have an equal probability of $\\frac{1}{27}$ of being chosen next in the sequence. \n"
   ]
  },
  {
   "cell_type": "code",
   "execution_count": 2,
   "metadata": {
    "collapsed": false
   },
   "outputs": [
    {
     "data": {
      "text/plain": [
       "0.037037037037037035"
      ]
     },
     "execution_count": 2,
     "metadata": {},
     "output_type": "execute_result"
    }
   ],
   "source": [
    "#This probability in decimal form is...\n",
    "1/27"
   ]
  },
  {
   "cell_type": "markdown",
   "metadata": {},
   "source": [
    "This means each character has a probability of 3.70% of being next in sequence"
   ]
  },
  {
   "cell_type": "code",
   "execution_count": 3,
   "metadata": {
    "collapsed": false,
    "scrolled": true
   },
   "outputs": [
    {
     "data": {
      "text/plain": [
       "'abcdefghijklmnopqrstuvwxyz '"
      ]
     },
     "execution_count": 3,
     "metadata": {},
     "output_type": "execute_result"
    }
   ],
   "source": [
    "#Lets first define our alphabet\n",
    "alphabet = ascii_lowercase + \" \" \n",
    "alphabet"
   ]
  },
  {
   "cell_type": "markdown",
   "metadata": {},
   "source": [
    "As each of these values are equally likely to appear, we will not need a Markov Chain or any complex modeling technique - we can simply randomly create a sequence of characters"
   ]
  },
  {
   "cell_type": "code",
   "execution_count": 4,
   "metadata": {
    "collapsed": false
   },
   "outputs": [
    {
     "name": "stdout",
     "output_type": "stream",
     "text": [
      "myy hhuqtkgfzmuya poceijjpobvqdzqhopkjbqapppdzcjvgnbavqhwxcmsprwkdh gmbuzoeqdgqshcbyzeqxrkdufixrvddl\n"
     ]
    }
   ],
   "source": [
    "char = tuple(alphabet)\n",
    "ZO_approx = ''.join(np.random.choice(char, size=10000, replace=True))\n",
    "print ZO_approx[:100]"
   ]
  },
  {
   "cell_type": "markdown",
   "metadata": {},
   "source": [
    "Lets quickly analyze our results"
   ]
  },
  {
   "cell_type": "code",
   "execution_count": 5,
   "metadata": {
    "collapsed": true
   },
   "outputs": [],
   "source": [
    "def check_approx_for_words(approx):\n",
    "    num_correct = 0\n",
    "    list_of_corrct_words = []\n",
    "    with open(\"dictionary.txt\") as word_file: #English dictionary is used\n",
    "        english_words = set(word.strip().lower() for word in word_file)\n",
    "    approx_in_words = approx.split()\n",
    "    for w in approx_in_words:\n",
    "        if w in english_words:\n",
    "            list_of_corrct_words.append(w)\n",
    "            num_correct +=1\n",
    "        \n",
    "    print(\"In our approximation, we have producted \" + str(num_correct) + \" words\")\n",
    "    print(\"some words found: \" + str(list_of_corrct_words[:5]))\n",
    "\n"
   ]
  },
  {
   "cell_type": "code",
   "execution_count": 6,
   "metadata": {
    "collapsed": false
   },
   "outputs": [
    {
     "name": "stdout",
     "output_type": "stream",
     "text": [
      "In our approximation, we have producted 5 words\n",
      "some words found: ['ca', 'pip', 'sd', 'ax', 'geed']\n"
     ]
    }
   ],
   "source": [
    "check_approx_for_words(ZO_approx)"
   ]
  },
  {
   "cell_type": "markdown",
   "metadata": {},
   "source": [
    " <a name=\"section1.2\"></a> \n",
    "## 1.2 First-Order Approximation\n",
    "\n",
    "___"
   ]
  },
  {
   "cell_type": "markdown",
   "metadata": {},
   "source": [
    "**\"The first-order approximation is obtained by choosing successive letters independently but\n",
    " each letter having the same probability that it has in the natural language\"**"
   ]
  },
  {
   "cell_type": "markdown",
   "metadata": {},
   "source": [
    "Now we will use the relative frequency of each letter ( the probability of it appearing in text)"
   ]
  },
  {
   "cell_type": "code",
   "execution_count": 7,
   "metadata": {
    "collapsed": false
   },
   "outputs": [],
   "source": [
    "mb_ch1 = \"moby_dick_ch1.txt\" #first chapter of moby dick\n",
    "\n",
    "with open(mb_ch1) as f:\n",
    "    text = f.read().strip()\n",
    "    text = text.lower()       #convert to lowercase\n",
    "    letter_freq_dict = {}\n",
    "    for x in alphabet:\n",
    "        letter_freq_dict[x] = text.count(x)"
   ]
  },
  {
   "cell_type": "markdown",
   "metadata": {},
   "source": [
    "We now have our letters and their corresponding frequencies in a dictionary. Lets now use see how they distribute using a plot"
   ]
  },
  {
   "cell_type": "code",
   "execution_count": 8,
   "metadata": {
    "collapsed": false
   },
   "outputs": [
    {
     "data": {
      "image/png": "[encoded data removed]",
      "text/plain": [
       "<matplotlib.figure.Figure at 0x10ca2b610>"
      ]
     },
     "metadata": {},
     "output_type": "display_data"
    }
   ],
   "source": [
    "plt.bar(range(len(letter_freq_dict)), letter_freq_dict.values(), align='center')\n",
    "plt.xticks(range(len(letter_freq_dict)), letter_freq_dict.keys())\n",
    "\n",
    "plt.show()"
   ]
  },
  {
   "cell_type": "markdown",
   "metadata": {},
   "source": [
    "This looks relatively consistent with the relative [frequency of letters across text](https://en.wikipedia.org/wiki/Letter_frequency) (though our plot includes the frequency of spaces in text)\n",
    "\n"
   ]
  },
  {
   "cell_type": "markdown",
   "metadata": {},
   "source": [
    "\n",
    "---\n",
    "\n",
    "Now we can get each letter's relative frequency (probability) by just dividing their frequency by the total amount of letters in our sample text (first chapter of Moby Dick)"
   ]
  },
  {
   "cell_type": "code",
   "execution_count": 9,
   "metadata": {
    "collapsed": false
   },
   "outputs": [
    {
     "data": {
      "image/png": "[encoded data removed]",
      "text/plain": [
       "<matplotlib.figure.Figure at 0x116305dd0>"
      ]
     },
     "metadata": {},
     "output_type": "display_data"
    }
   ],
   "source": [
    "def freq_to_rel_freq(dct):\n",
    "    dct_sum = 0\n",
    "    for v in dct.values():\n",
    "        dct_sum += v\n",
    "    for key, value in dct.items():\n",
    "        dct[key] = value / dct_sum\n",
    "    return dct\n",
    "\n",
    "freq_to_rel_freq(letter_freq_dict)\n",
    "\n",
    "#lets see our values again to verify \n",
    "plt.bar(range(len(letter_freq_dict)), letter_freq_dict.values(), align='center')\n",
    "plt.xticks(range(len(letter_freq_dict)), letter_freq_dict.keys())\n",
    "\n",
    "plt.show()"
   ]
  },
  {
   "cell_type": "markdown",
   "metadata": {},
   "source": [
    "Now let's see our first-order approximation!"
   ]
  },
  {
   "cell_type": "code",
   "execution_count": 10,
   "metadata": {
    "collapsed": false
   },
   "outputs": [
    {
     "name": "stdout",
     "output_type": "stream",
     "text": [
      "jgurhosawopnjgdccdpgslybwzosjizoerfdecnkwuydpsevvizdsengwkcdrmvelgpaaqylj hi rhmvihabmsaamzyuctpmolp\n"
     ]
    }
   ],
   "source": [
    "FO_prob = tuple(letter_freq_dict.keys())\n",
    "FO_approx =  ''.join(np.random.choice(FO_prob, size=10000, replace=True))\n",
    "print(FO_approx[:100])"
   ]
  },
  {
   "cell_type": "code",
   "execution_count": 11,
   "metadata": {
    "collapsed": false
   },
   "outputs": [
    {
     "name": "stdout",
     "output_type": "stream",
     "text": [
      "In our approximation, we have producted 4 words\n",
      "some words found: ['hi', 'lr', 'tm', 'ox']\n"
     ]
    }
   ],
   "source": [
    "check_approx_for_words(FO_approx)"
   ]
  },
  {
   "cell_type": "markdown",
   "metadata": {},
   "source": [
    "Our output is still far from a resembling English. Let's see how additional approximations change that"
   ]
  },
  {
   "cell_type": "markdown",
   "metadata": {},
   "source": [
    " <a name=\"section1.3\"></a> \n",
    "## 1.3 Second-Order Approximation\n",
    "\n",
    "___"
   ]
  },
  {
   "cell_type": "markdown",
   "metadata": {},
   "source": [
    " "
   ]
  },
  {
   "cell_type": "markdown",
   "metadata": {},
   "source": [
    "### Quick Background\n",
    "\n",
    "___\n",
    "\n",
    "\n",
    "#### What is a Transition Matrix?\n",
    "\n",
    "Say we have three states, **A**, **B**, and **C** \n",
    "\n",
    "**1)** Given that we are in a state **A**, we have three choices on where to go:\n",
    "\n",
    "- We can stay in state **A**, which we are 30% likely to do\n",
    "- We can go to state **B**, which we are 20% likely to do\n",
    "- We can go to state **C**, which we are 50% likely to do\n",
    "\n",
    "which we can represent with the row vector\n",
    "\n",
    "$$\n",
    "\\begin{align}\n",
    "T_1=\\begin{bmatrix}\n",
    "        .30 & .20 & .50\n",
    "    \\end{bmatrix}\n",
    "\\end{align}\n",
    "$$\n",
    "\n",
    "**2)** Continuing, if we move to state **B**,\n",
    "\n",
    "- We can go to state **A**, which we are 10% likely to do\n",
    "- We can stay in state **B**, which we are 60% likely to do\n",
    "- We can go to state **C**, which we are 30% likely to do\n",
    "\n",
    "which we can represent with the row vector\n",
    "\n",
    "$$\n",
    "\\begin{align}\n",
    "T_2=\\begin{bmatrix}\n",
    "        .10 & .60 & .30\n",
    "    \\end{bmatrix}\n",
    "\\end{align}\n",
    "$$\n",
    "\n",
    "**3)** Lastly, if we move to state **C**,\n",
    "\n",
    "- We can go to state **A**, which we are 20% likely to do\n",
    "- We can go to state **B**, which we are 40% likely to do\n",
    "- We can stay in state  **C**, which we are 40% likely to do\n",
    "\n",
    "which we can represent with the row vector\n",
    "\n",
    "$$\n",
    "\\begin{align}\n",
    "T_3=\\begin{bmatrix}\n",
    "        .20 & .40 & .40\n",
    "    \\end{bmatrix}\n",
    "\\end{align}\n",
    "$$\n",
    "\n",
    "\n",
    "\n",
    "#### Combining these three row vectors into a matrix, we can create the transition matrix **T**\n",
    "\n",
    "\n",
    "$$\n",
    "\\begin{align}\n",
    "    T=\\begin{bmatrix}\n",
    "         T_1\\\\\n",
    "         T_2\\\\\n",
    "         T_3\n",
    "    \\end{bmatrix}\n",
    "        = \\begin{bmatrix}\n",
    "            .30 & .20 & .50\\\\\n",
    "            .10 & .60 & .30\\\\\n",
    "            .20 & .40 & .40\n",
    "          \\end{bmatrix}\n",
    "\\end{align}\n",
    "$$\n",
    "\n",
    "- **Where the *ith*, *jth* element of the matrix **T** gives us the probability that we will move from the *ith* state to the *jth* state**\n",
    "\n",
    "We can see what this means more clearly in the matrix below, \n",
    "\n",
    "$$\n",
    "\\begin{align}\n",
    "    T= \\begin{bmatrix}\n",
    "            .30 & .20 & .50\\\\\n",
    "            .10 & .60 & .30\\\\\n",
    "            .20 & .40 & .40\n",
    "       \\end{bmatrix}\n",
    "       =\\begin{bmatrix}\n",
    "            T_{AA} & T_{AB} & T_{AC}\\\\\n",
    "            T_{BA} & T_{BB} & T_{BC}\\\\\n",
    "            T_{CA} & T_{CB} & T_{CC}\n",
    "       \\end{bmatrix}\n",
    "\\end{align}\n",
    "$$\n",
    "\n",
    "\n",
    "**Key Idea**:\n",
    "Another way of thinking about this is to see each entry of the matrix as the probabilty of that two-state sequence occuring. This is consistent with the main limitation of transition matrices, which is that the probability of a state occuring relies *only* on the state that occured before it. It is also consistent \n",
    "\n",
    "**more on transition matrices [here](https://en.wikipedia.org/wiki/Stochastic_matrix)**"
   ]
  },
  {
   "cell_type": "markdown",
   "metadata": {},
   "source": [
    " \n"
   ]
  },
  {
   "cell_type": "markdown",
   "metadata": {},
   "source": [
    "###  To use a Second-Order Approximation, we need the following transition matrix\n",
    "\n",
    "---\n",
    "\n",
    "\n",
    "$$\n",
    "\\begin{align}\n",
    "    T_{SecondOrder}=\\begin{bmatrix}\n",
    "            T_{AA} & T_{AB} & T_{AC} & \\dots & T_{AZ}\\\\\n",
    "            T_{BA} & T_{BB} & T_{BC} &  \\dots & T_{BZ}\\\\\n",
    "            T_{CA} & T_{CB} & T_{CC} &  \\dots & T_{CZ}\\\\\n",
    "            \\vdots & \\vdots & \\vdots &  \\ddots & &\\\\\n",
    "            T_{ZA} & T_{ZB} & T_{ZC}& & T_{ZZ} \n",
    "       \\end{bmatrix}\n",
    "\\end{align}\n",
    "$$\n",
    "\n",
    "\n",
    "\n",
    "Note: I have ommitted the last column and row for clarity\n",
    "### Now if we wish to create our transition matrix, we must first find the probability of each two-letter sequence occuring\n"
   ]
  },
  {
   "cell_type": "markdown",
   "metadata": {},
   "source": [
    "#### So an example of the steps necessary can be illustrated by working out how we would find the probabilty of the two-letter sequence \"AA\"\n",
    "\n",
    "\n",
    "** Step 1)** We must find $\\textrm{freq}(AA)$, where\n",
    "\n",
    "$$ \\textrm{freq}(AA) = \\textrm{frequency of a two-letter sequence containing \"AA\"} $$\n",
    " \n",
    "\n",
    "**Step 2)** We must find the sum of frequencies of sequences that begin with A, which we can call $N$\n",
    "\n",
    "$$ N_{A\\eta} = \\sum^{27}\\textrm{freq}(A\\eta) $$\n",
    "\n",
    "**Step 3)** We can then find the probability of that two sequence, $P_{A\\eta}$,\n",
    "\n",
    "$$ P_{AA} = \\frac{\\textrm{freq}(AA)}{N_{A\\eta}} = T_{AA} $$"
   ]
  },
  {
   "cell_type": "markdown",
   "metadata": {},
   "source": [
    "### Step 0: Make reference matrix \n",
    "\n",
    "To make this exercise a little more illustrative, we will first create a sort of \"reference matrix\" in which the elements of the matrix are sequences we are interested in. This will come in handy later as we will use regular expressions to determine sequence frequencies. \n",
    "\n",
    "This matrix is essentially just our transition matrix with letter sequences instead of their corresponding probabilities.\n",
    "\n",
    "For a second order approximation, the reference matrix **R** will look like this:\n",
    "\n",
    "---\n",
    "\n",
    "$$\n",
    "\\begin{align}\n",
    "    R_{SecondOrder}=\\begin{bmatrix}\n",
    "            AA & AB & AC & \\dots & AZ\\\\\n",
    "            BA & BB & BC &  \\dots & BZ\\\\\n",
    "            CA & CB & CC &  \\dots & CZ\\\\\n",
    "            \\vdots & \\vdots & \\vdots &  \\ddots & &\\\\\n",
    "            ZA & ZB & ZC& & ZZ \n",
    "       \\end{bmatrix}\n",
    "\\end{align}\n",
    "$$\n",
    "\n",
    "---\n",
    "\n",
    "\n",
    "To make this reference matrix (and subsequent reference matrices for higher-order approximations) I will use matrix addition. For example, our second-order approximation reference matrix will be built like the matrix addition equation below:\n",
    "\n",
    "---\n",
    "$$\n",
    "\\begin{align}\n",
    "    R_{SecondOrder}=\\begin{bmatrix}\n",
    "            A & A & A & \\dots & A\\\\\n",
    "            B & B & B &  \\dots & B\\\\\n",
    "            C & C & C &  \\dots & C\\\\\n",
    "            \\vdots & \\vdots & \\vdots &  \\ddots & &\\\\\n",
    "            Z & Z & Z& & Z \n",
    "       \\end{bmatrix}+\\begin{bmatrix}\n",
    "            A & B & C & \\dots & Z\\\\\n",
    "            A & B & C &  \\dots & Z\\\\\n",
    "            A & B & C &  \\dots & Z\\\\\n",
    "            \\vdots & \\vdots & \\vdots &  \\ddots & &\\\\\n",
    "            A & B & C& & Z \n",
    "       \\end{bmatrix}=\\begin{bmatrix}\n",
    "            AA & AB & AC & \\dots & AZ\\\\\n",
    "            BA & BB & BC &  \\dots & BZ\\\\\n",
    "            CA & CB & CC &  \\dots & CZ\\\\\n",
    "            \\vdots & \\vdots & \\vdots &  \\ddots & &\\\\\n",
    "            ZA & ZB & ZC& & ZZ \n",
    "       \\end{bmatrix}\n",
    "\\end{align}\n",
    "$$\n",
    "\n",
    "---\n",
    "\n",
    "\n",
    "**note**: in actuality, our matrix would have one extra row and column for the \" \" character for clarity I have chosen to omit this detail"
   ]
  },
  {
   "cell_type": "code",
   "execution_count": 12,
   "metadata": {
    "collapsed": false
   },
   "outputs": [],
   "source": [
    "#CREATES AN N X N MATRIX WHERE N IS THE LENGTH OF THE \"ALPHABET\" USED\n",
    "#AND EACH ROW IS THE NTH ELEMENT OF THE \"ALPHABET\" REPEATED N TIMES\n",
    "#AKA THE TRANSPOSE OF THE ABOVE MATRIX\n",
    "\n",
    "#CONVERT OUR 27 CHARACTER ALPHABET TO A LIST \n",
    "alpha_vec = list(alphabet)\n",
    "\n",
    "\n",
    "def make_char_matrix(character_list):\n",
    "    oneD_matrix = [] #initializes a list\n",
    "    alpha_length = len(character_list) #determines how many of each letter to append to the list\n",
    "    for ltr in character_list: #list comprehension shortening\n",
    "        for i in range(alpha_length):\n",
    "            oneD_matrix.append(ltr)\n",
    "    global alpha_matrix_one\n",
    "    alpha_matrix_one = np.array(oneD_matrix).reshape(alpha_length,alpha_length) #convert to numpy array\n",
    "    \n",
    "    \n",
    "make_char_matrix(alpha_vec)"
   ]
  },
  {
   "cell_type": "code",
   "execution_count": 13,
   "metadata": {
    "collapsed": false
   },
   "outputs": [],
   "source": [
    "#CREATES AN N X N MATRIX WHERE N IS THE LENGTH OF THE 'ALPHABET' USED\n",
    "#AND EACH ROW CONTAINS THE ELEMENTS OF THE USED \"ALPHABET\"\n",
    "\n",
    "def make_alphabet_matrix(character_list):\n",
    "    oneD_matrix = []\n",
    "    alpha_length = len(character_list)\n",
    "    for i in range(len(character_list)):\n",
    "        oneD_matrix.append(character_list)\n",
    "    global alpha_matrix_two \n",
    "    alpha_matrix_two = np.array(oneD_matrix).reshape(alpha_length,alpha_length)\n",
    "                   \n",
    "make_alphabet_matrix(alpha_vec)"
   ]
  },
  {
   "cell_type": "code",
   "execution_count": 14,
   "metadata": {
    "collapsed": false,
    "scrolled": true
   },
   "outputs": [
    {
     "name": "stdout",
     "output_type": "stream",
     "text": [
      "(27, 27)\n",
      "(27, 27)\n"
     ]
    }
   ],
   "source": [
    "print(alpha_matrix_one.shape) \n",
    "print(alpha_matrix_two.shape)\n",
    "\n",
    "#ref_matrix = np.dot(alpha_matrix_one,alpha_matrix_two)\n",
    "#ref_matrix = np.vdot(alpha_matrix_one, alpha_vec)"
   ]
  },
  {
   "cell_type": "code",
   "execution_count": 15,
   "metadata": {
    "collapsed": false
   },
   "outputs": [
    {
     "name": "stdout",
     "output_type": "stream",
     "text": [
      "alpha df1: \n",
      "   a  b  c  d  e  f  g  h  i  j ...  r  s  t  u  v  w  x  y  z   \n",
      "0  a  a  a  a  a  a  a  a  a  a ...  a  a  a  a  a  a  a  a  a  a\n",
      "1  b  b  b  b  b  b  b  b  b  b ...  b  b  b  b  b  b  b  b  b  b\n",
      "2  c  c  c  c  c  c  c  c  c  c ...  c  c  c  c  c  c  c  c  c  c\n",
      "3  d  d  d  d  d  d  d  d  d  d ...  d  d  d  d  d  d  d  d  d  d\n",
      "4  e  e  e  e  e  e  e  e  e  e ...  e  e  e  e  e  e  e  e  e  e\n",
      "\n",
      "[5 rows x 27 columns]\n",
      "alpha df2: \n",
      "   a  b  c  d  e  f  g  h  i  j ...  r  s  t  u  v  w  x  y  z   \n",
      "0  a  b  c  d  e  f  g  h  i  j ...  r  s  t  u  v  w  x  y  z   \n",
      "1  a  b  c  d  e  f  g  h  i  j ...  r  s  t  u  v  w  x  y  z   \n",
      "2  a  b  c  d  e  f  g  h  i  j ...  r  s  t  u  v  w  x  y  z   \n",
      "3  a  b  c  d  e  f  g  h  i  j ...  r  s  t  u  v  w  x  y  z   \n",
      "4  a  b  c  d  e  f  g  h  i  j ...  r  s  t  u  v  w  x  y  z   \n",
      "\n",
      "[5 rows x 27 columns]\n"
     ]
    }
   ],
   "source": [
    "#CONVERT TO PANDAS DATAFRAMES\n",
    "alpha_df1 = pd.DataFrame(alpha_matrix_one, columns=alpha_vec)\n",
    "alpha_df2 = pd.DataFrame(alpha_matrix_two, columns=alpha_vec) #though the column names do not make sense now,\n",
    "\n",
    "print \"alpha df1: \"\n",
    "print alpha_df1.head()                                        #having identical headers makes life easier\n",
    "print \"alpha df2: \"\n",
    "print alpha_df2.head()"
   ]
  },
  {
   "cell_type": "code",
   "execution_count": 16,
   "metadata": {
    "collapsed": false
   },
   "outputs": [],
   "source": [
    "def matrix_addition(dataframe1,dataframe2):\n",
    "    global alpha_df3\n",
    "    alpha_df3 = pd.DataFrame()#initialize dataframe\n",
    "    for ltr in alphabet:\n",
    "        alpha_df3[ltr] = dataframe1[ltr].str.cat(dataframe2[ltr])\n",
    "\n",
    "matrix_addition(alpha_df1, alpha_df2)"
   ]
  },
  {
   "cell_type": "code",
   "execution_count": 17,
   "metadata": {
    "collapsed": false,
    "scrolled": true
   },
   "outputs": [
    {
     "name": "stdout",
     "output_type": "stream",
     "text": [
      "     a   b   c   d   e   f   g   h   i   j ...   r   s   t   u   v   w   x  \\\n",
      "                                           ...                               \n",
      "a   aa  ab  ac  ad  ae  af  ag  ah  ai  aj ...  ar  as  at  au  av  aw  ax   \n",
      "b   ba  bb  bc  bd  be  bf  bg  bh  bi  bj ...  br  bs  bt  bu  bv  bw  bx   \n",
      "c   ca  cb  cc  cd  ce  cf  cg  ch  ci  cj ...  cr  cs  ct  cu  cv  cw  cx   \n",
      "d   da  db  dc  dd  de  df  dg  dh  di  dj ...  dr  ds  dt  du  dv  dw  dx   \n",
      "e   ea  eb  ec  ed  ee  ef  eg  eh  ei  ej ...  er  es  et  eu  ev  ew  ex   \n",
      "\n",
      "     y   z      \n",
      "                \n",
      "a   ay  az  a   \n",
      "b   by  bz  b   \n",
      "c   cy  cz  c   \n",
      "d   dy  dz  d   \n",
      "e   ey  ez  e   \n",
      "\n",
      "[5 rows x 27 columns]\n",
      "(27, 27)\n"
     ]
    }
   ],
   "source": [
    "alpha_df3 = alpha_df3.set_index(alpha_df3.ix[:,-1])    #reindex dataframe to revert back to orignal index\n",
    "\n",
    "print alpha_df3.head()\n",
    "print alpha_df3.shape"
   ]
  },
  {
   "cell_type": "markdown",
   "metadata": {},
   "source": [
    "We have our transition matrix: \n",
    "\n",
    "---\n",
    "$$\n",
    "\\begin{align}\n",
    "    R_{SecondOrder}=\\begin{bmatrix}\n",
    "            AA & AB & AC & \\dots & AZ\\\\\n",
    "            BA & BB & BC &  \\dots & BZ\\\\\n",
    "            CA & CB & CC &  \\dots & CZ\\\\\n",
    "            \\vdots & \\vdots & \\vdots &  \\ddots & &\\\\\n",
    "            ZA & ZB & ZC& & ZZ \n",
    "       \\end{bmatrix}\n",
    "\\end{align}\n",
    "$$\n",
    "\n",
    "---\n",
    "\n",
    "\n",
    "Now all we need to is replace each entry with its transition probability, which we'll do in steps 1-3! \n",
    "\n"
   ]
  },
  {
   "cell_type": "markdown",
   "metadata": {
    "collapsed": false
   },
   "source": [
    "### Step 1: Find the frequency of each two-letter sequence (bigram)"
   ]
  },
  {
   "cell_type": "markdown",
   "metadata": {},
   "source": [
    "For this part, we will be using regular expression searches to find the count of each bigram"
   ]
  },
  {
   "cell_type": "code",
   "execution_count": 18,
   "metadata": {
    "collapsed": false
   },
   "outputs": [],
   "source": [
    "SO_freq_dct = {}\n",
    "regex_template = r'in'\n",
    "\n",
    "def freq_of_seq(output_dict,dataframe): \n",
    "    df_dim = len(dataframe.columns)\n",
    "    jth = 0\n",
    "    with open(mb_ch1) as f:     #opens our text source as a string \n",
    "        text = f.read().strip()\n",
    "        text = text.lower()\n",
    "    for i in range(df_dim):\n",
    "        j = 0\n",
    "        jth += 1\n",
    "        while len(output_dict) < jth*df_dim: #for row by row iteration\n",
    "            entry = dataframe.iloc[i,j]\n",
    "            regex = regex_template.replace('in',str(entry))\n",
    "            count = len(re.findall(\"(?=%s)\" % regex, text))\n",
    "            output_dict[entry] = count\n",
    "            j += 1\n",
    "        \n",
    "    return output_dict       "
   ]
  },
  {
   "cell_type": "code",
   "execution_count": 19,
   "metadata": {
    "collapsed": false
   },
   "outputs": [
    {
     "name": "stdout",
     "output_type": "stream",
     "text": [
      "length of dictionary: 729\n",
      "five most common bigrams: {' a': 260, 'th': 308, 'e ': 350, ' t': 350, 'he': 243}\n"
     ]
    }
   ],
   "source": [
    "freq_of_seq(SO_freq_dct, alpha_df3)\n",
    "\n",
    "print \"length of dictionary: \" + str(len(SO_freq_dct.values())) #We expect the length to be 729 (27*27)\n",
    "\n",
    "print \"five most common bigrams: \" + str(dict(Counter(SO_freq_dct).most_common(5)))\n"
   ]
  },
  {
   "cell_type": "code",
   "execution_count": 20,
   "metadata": {
    "collapsed": false
   },
   "outputs": [
    {
     "data": {
      "text/html": [
       "<div>\n",
       "<table border=\"1\" class=\"dataframe\">\n",
       "  <thead>\n",
       "    <tr style=\"text-align: right;\">\n",
       "      <th></th>\n",
       "      <th>a</th>\n",
       "      <th>b</th>\n",
       "      <th>c</th>\n",
       "      <th>d</th>\n",
       "      <th>e</th>\n",
       "      <th>f</th>\n",
       "      <th>g</th>\n",
       "      <th>h</th>\n",
       "      <th>i</th>\n",
       "      <th>j</th>\n",
       "      <th>...</th>\n",
       "      <th>r</th>\n",
       "      <th>s</th>\n",
       "      <th>t</th>\n",
       "      <th>u</th>\n",
       "      <th>v</th>\n",
       "      <th>w</th>\n",
       "      <th>x</th>\n",
       "      <th>y</th>\n",
       "      <th>z</th>\n",
       "      <th></th>\n",
       "    </tr>\n",
       "    <tr>\n",
       "      <th></th>\n",
       "      <th></th>\n",
       "      <th></th>\n",
       "      <th></th>\n",
       "      <th></th>\n",
       "      <th></th>\n",
       "      <th></th>\n",
       "      <th></th>\n",
       "      <th></th>\n",
       "      <th></th>\n",
       "      <th></th>\n",
       "      <th></th>\n",
       "      <th></th>\n",
       "      <th></th>\n",
       "      <th></th>\n",
       "      <th></th>\n",
       "      <th></th>\n",
       "      <th></th>\n",
       "      <th></th>\n",
       "      <th></th>\n",
       "      <th></th>\n",
       "      <th></th>\n",
       "    </tr>\n",
       "  </thead>\n",
       "  <tbody>\n",
       "    <tr>\n",
       "      <th>a</th>\n",
       "      <td>0</td>\n",
       "      <td>23</td>\n",
       "      <td>17</td>\n",
       "      <td>16</td>\n",
       "      <td>3</td>\n",
       "      <td>3</td>\n",
       "      <td>26</td>\n",
       "      <td>1</td>\n",
       "      <td>26</td>\n",
       "      <td>1</td>\n",
       "      <td>...</td>\n",
       "      <td>70</td>\n",
       "      <td>70</td>\n",
       "      <td>102</td>\n",
       "      <td>5</td>\n",
       "      <td>18</td>\n",
       "      <td>5</td>\n",
       "      <td>1</td>\n",
       "      <td>23</td>\n",
       "      <td>4</td>\n",
       "      <td>79</td>\n",
       "    </tr>\n",
       "    <tr>\n",
       "      <th>b</th>\n",
       "      <td>11</td>\n",
       "      <td>2</td>\n",
       "      <td>0</td>\n",
       "      <td>0</td>\n",
       "      <td>39</td>\n",
       "      <td>0</td>\n",
       "      <td>0</td>\n",
       "      <td>0</td>\n",
       "      <td>6</td>\n",
       "      <td>0</td>\n",
       "      <td>...</td>\n",
       "      <td>13</td>\n",
       "      <td>2</td>\n",
       "      <td>1</td>\n",
       "      <td>23</td>\n",
       "      <td>0</td>\n",
       "      <td>0</td>\n",
       "      <td>0</td>\n",
       "      <td>9</td>\n",
       "      <td>0</td>\n",
       "      <td>2</td>\n",
       "    </tr>\n",
       "    <tr>\n",
       "      <th>c</th>\n",
       "      <td>41</td>\n",
       "      <td>0</td>\n",
       "      <td>3</td>\n",
       "      <td>0</td>\n",
       "      <td>32</td>\n",
       "      <td>0</td>\n",
       "      <td>0</td>\n",
       "      <td>36</td>\n",
       "      <td>16</td>\n",
       "      <td>0</td>\n",
       "      <td>...</td>\n",
       "      <td>7</td>\n",
       "      <td>1</td>\n",
       "      <td>16</td>\n",
       "      <td>8</td>\n",
       "      <td>0</td>\n",
       "      <td>0</td>\n",
       "      <td>0</td>\n",
       "      <td>1</td>\n",
       "      <td>0</td>\n",
       "      <td>4</td>\n",
       "    </tr>\n",
       "    <tr>\n",
       "      <th>d</th>\n",
       "      <td>3</td>\n",
       "      <td>0</td>\n",
       "      <td>0</td>\n",
       "      <td>3</td>\n",
       "      <td>47</td>\n",
       "      <td>1</td>\n",
       "      <td>3</td>\n",
       "      <td>0</td>\n",
       "      <td>24</td>\n",
       "      <td>0</td>\n",
       "      <td>...</td>\n",
       "      <td>7</td>\n",
       "      <td>18</td>\n",
       "      <td>0</td>\n",
       "      <td>2</td>\n",
       "      <td>0</td>\n",
       "      <td>0</td>\n",
       "      <td>0</td>\n",
       "      <td>3</td>\n",
       "      <td>0</td>\n",
       "      <td>168</td>\n",
       "    </tr>\n",
       "    <tr>\n",
       "      <th>e</th>\n",
       "      <td>75</td>\n",
       "      <td>0</td>\n",
       "      <td>23</td>\n",
       "      <td>56</td>\n",
       "      <td>47</td>\n",
       "      <td>9</td>\n",
       "      <td>7</td>\n",
       "      <td>4</td>\n",
       "      <td>16</td>\n",
       "      <td>0</td>\n",
       "      <td>...</td>\n",
       "      <td>173</td>\n",
       "      <td>113</td>\n",
       "      <td>37</td>\n",
       "      <td>0</td>\n",
       "      <td>34</td>\n",
       "      <td>5</td>\n",
       "      <td>7</td>\n",
       "      <td>22</td>\n",
       "      <td>1</td>\n",
       "      <td>350</td>\n",
       "    </tr>\n",
       "  </tbody>\n",
       "</table>\n",
       "<p>5 rows × 27 columns</p>\n",
       "</div>"
      ],
      "text/plain": [
       "     a   b   c   d   e  f   g   h   i  j ...     r    s    t   u   v  w  x  \\\n",
       "                                         ...                                 \n",
       "a    0  23  17  16   3  3  26   1  26  1 ...    70   70  102   5  18  5  1   \n",
       "b   11   2   0   0  39  0   0   0   6  0 ...    13    2    1  23   0  0  0   \n",
       "c   41   0   3   0  32  0   0  36  16  0 ...     7    1   16   8   0  0  0   \n",
       "d    3   0   0   3  47  1   3   0  24  0 ...     7   18    0   2   0  0  0   \n",
       "e   75   0  23  56  47  9   7   4  16  0 ...   173  113   37   0  34  5  7   \n",
       "\n",
       "     y  z       \n",
       "                \n",
       "a   23  4   79  \n",
       "b    9  0    2  \n",
       "c    1  0    4  \n",
       "d    3  0  168  \n",
       "e   22  1  350  \n",
       "\n",
       "[5 rows x 27 columns]"
      ]
     },
     "execution_count": 20,
     "metadata": {},
     "output_type": "execute_result"
    }
   ],
   "source": [
    "SO_TM = alpha_df3.replace(SO_freq_dct)\n",
    "SO_TM.head()"
   ]
  },
  {
   "cell_type": "markdown",
   "metadata": {},
   "source": [
    "### Step 2: Find the sum of each row"
   ]
  },
  {
   "cell_type": "code",
   "execution_count": 21,
   "metadata": {
    "collapsed": false
   },
   "outputs": [
    {
     "name": "stdout",
     "output_type": "stream",
     "text": [
      "a     794\n",
      "b     132\n",
      "c     215\n",
      "d     341\n",
      "e    1209\n",
      "f     208\n",
      "g     213\n",
      "h     550\n",
      "i     672\n",
      "j      11\n",
      "k      55\n",
      "l     424\n",
      "m     264\n",
      "n     647\n",
      "o     747\n",
      "p     187\n",
      "q       9\n",
      "r     536\n",
      "s     680\n",
      "t     875\n",
      "u     264\n",
      "v     104\n",
      "w     199\n",
      "x      11\n",
      "y     210\n",
      "z       7\n",
      "     1898\n",
      "dtype: int64\n"
     ]
    },
    {
     "data": {
      "image/png": "[encoded data removed]",
      "text/plain": [
       "<matplotlib.figure.Figure at 0x1169a0850>"
      ]
     },
     "metadata": {},
     "output_type": "display_data"
    }
   ],
   "source": [
    "print SO_TM.sum(0)   #built-in pandas column sum function\n",
    "\n",
    "SO_row_sums = list(SO_TM.sum(0))    #1 for column sum (0 for row sums)\n",
    "\n",
    "SO_row_sum_dct = odict(zip(alpha_vec, SO_row_sums)) #save these values to an order-preserving dictionary\n",
    "\n",
    "plt.bar(range(len(SO_row_sum_dct)), SO_row_sum_dct.values(), align='center')\n",
    "plt.xticks(range(len(SO_row_sum_dct)), SO_row_sum_dct.keys())\n",
    "\n",
    "plt.show()"
   ]
  },
  {
   "cell_type": "markdown",
   "metadata": {},
   "source": [
    "We can see that in our source text, the bigram with the highest frequency is the one that begins with a space which is to be expected as each word begins with this character."
   ]
  },
  {
   "cell_type": "markdown",
   "metadata": {},
   "source": [
    "### Step 3: Determine Probability of Each Digram (Relative Frequency)\n",
    "\n",
    "\n",
    "In this step, we are simply normalizing the values of each row to sum to one"
   ]
  },
  {
   "cell_type": "code",
   "execution_count": 22,
   "metadata": {
    "collapsed": false
   },
   "outputs": [],
   "source": [
    "SO_norm_dct = {}\n",
    "\n",
    "def norm_dct(freq_dct,row_sum_dct,output_dct):\n",
    "    dct_dim = len(row_sum_dct) #27 in this case, \n",
    "    j = 0 \n",
    "    for i in range(1, len(row_sum_dct)+1): \n",
    "        while len(output_dct) < i*dct_dim:\n",
    "            row_ltr = alpha_vec[j]\n",
    "            row_sum = row_sum_dct[row_ltr]\n",
    "            for second_ltr in alphabet:\n",
    "                bigram = row_ltr+second_ltr\n",
    "                freq = freq_dct[bigram]\n",
    "                norm_freq = freq / row_sum          #normalize by row sum as it the elements of a row are \n",
    "                output_dct[bigram] = norm_freq      #the possible transitions \n",
    "        j +=1 \n",
    "        \n",
    "    return output_dct"
   ]
  },
  {
   "cell_type": "code",
   "execution_count": 23,
   "metadata": {
    "collapsed": false
   },
   "outputs": [
    {
     "name": "stdout",
     "output_type": "stream",
     "text": [
      "length of dictionary: 729\n"
     ]
    }
   ],
   "source": [
    "norm_dct(SO_freq_dct,SO_row_sum_dct,SO_norm_dct)\n",
    "\n",
    "print \"length of dictionary: \" + str(len(SO_norm_dct))"
   ]
  },
  {
   "cell_type": "markdown",
   "metadata": {},
   "source": [
    "### So just to recap, we have done the following\n",
    " \n",
    "- a) Found the frequency of each bigram\n",
    "- b) Found the sum of each set of bigrams that share the same \"starting point\"\n",
    "- c) Normalized the frequency each of each bigram such that the probablities of each set sum to 1\n"
   ]
  },
  {
   "cell_type": "markdown",
   "metadata": {
    "collapsed": false
   },
   "source": [
    "### Now we will be using [Pykov](https://github.com/riccardoscalco/Pykov) to work with our second-order Markov Chain\n",
    "\n",
    "First, we must slighly alter our normalized second-order dictionary so that each bigram is represented by a tuple."
   ]
  },
  {
   "cell_type": "code",
   "execution_count": 24,
   "metadata": {
    "collapsed": false
   },
   "outputs": [],
   "source": [
    "for bigram in SO_norm_dct:\n",
    "    SO_norm_dct[tuple(bigram)] = SO_norm_dct.pop(bigram)"
   ]
  },
  {
   "cell_type": "markdown",
   "metadata": {
    "collapsed": true
   },
   "source": [
    "Now lets turn this dictionary into a Pykov matrix so that we can finally get our second-order approximation results"
   ]
  },
  {
   "cell_type": "code",
   "execution_count": 25,
   "metadata": {
    "collapsed": false
   },
   "outputs": [],
   "source": [
    "T = pykov.Chain(SO_norm_dct)"
   ]
  },
  {
   "cell_type": "code",
   "execution_count": 26,
   "metadata": {
    "collapsed": false
   },
   "outputs": [
    {
     "name": "stdout",
     "output_type": "stream",
     "text": [
      "thero t wndsehayilarelloigone thowh istrantonthis an tware pend s t s pucaminde drom f iscofon s she\n"
     ]
    }
   ],
   "source": [
    "SO_walk = T.walk(10000)\n",
    "SO_approx = ''.join(SO_walk)\n",
    "print(SO_approx[:100])"
   ]
  },
  {
   "cell_type": "code",
   "execution_count": 27,
   "metadata": {
    "collapsed": false
   },
   "outputs": [
    {
     "name": "stdout",
     "output_type": "stream",
     "text": [
      "In our approximation, we have producted 304 words\n",
      "some words found: ['an', 'pend', 'ant', 'ad', 'hen']\n"
     ]
    }
   ],
   "source": [
    "check_approx_for_words(SO_approx)"
   ]
  },
  {
   "cell_type": "markdown",
   "metadata": {},
   "source": [
    "For a second-order approximation, we produced 304 words!"
   ]
  },
  {
   "cell_type": "markdown",
   "metadata": {},
   "source": [
    " <a name=\"section1.4\"></a> \n",
    "## 1.4 Third Order Approximation\n",
    "\n",
    "---"
   ]
  },
  {
   "cell_type": "markdown",
   "metadata": {},
   "source": [
    "For a third-order approximation, we will now be focusing on the trigrams present in our source text.\n",
    "\n",
    "**Steps**\n",
    "\n",
    "- Get a count of each trigram\n",
    "- calculate probability of each trigram, in other words \n",
    "$$ p_{ijk} = \\frac{N_{ijk}}{N_{ij*}} $$\n",
    "- assemble markov model with $n^2$ states\n"
   ]
  },
  {
   "cell_type": "code",
   "execution_count": 28,
   "metadata": {
    "collapsed": false
   },
   "outputs": [
    {
     "data": {
      "text/plain": [
       "19683"
      ]
     },
     "execution_count": 28,
     "metadata": {},
     "output_type": "execute_result"
    }
   ],
   "source": [
    "#STEP 1 Get a count of each trigram\n",
    "\n",
    "#lets create a trigram count dictionary\n",
    "\n",
    "TO_freq_dict = {}\n",
    "for first_ltr in alpha_vec:\n",
    "    for sec_ltr in alpha_vec:\n",
    "        for thrd_ltr in alpha_vec:\n",
    "            trigram = first_ltr + sec_ltr + thrd_ltr\n",
    "            TO_freq_dict[trigram] = 0\n",
    "            \n",
    "len(TO_freq_dict)  #27*27*27 = 19683"
   ]
  },
  {
   "cell_type": "code",
   "execution_count": 29,
   "metadata": {
    "collapsed": false
   },
   "outputs": [
    {
     "name": "stdout",
     "output_type": "stream",
     "text": [
      "19683\n"
     ]
    }
   ],
   "source": [
    "#Now lets use a moving window approach to count each trigram\n",
    "\n",
    "with open(mb_ch1) as f:\n",
    "    text = f.read().strip()\n",
    "    text = text.lower()       #convert to lowercase\n",
    "    for i in range(len(text)-2):\n",
    "        j = 3 + i              # \"i\" indexes the start of the trigram and \"j\" indexes the end - \"moving window\"\n",
    "        trigram = text[i:j]\n",
    "        if trigram in TO_freq_dict.keys():\n",
    "            TO_freq_dict[trigram] += 1\n",
    "\n",
    "print(len(TO_freq_dict))\n"
   ]
  },
  {
   "cell_type": "code",
   "execution_count": 30,
   "metadata": {
    "collapsed": false
   },
   "outputs": [
    {
     "name": "stdout",
     "output_type": "stream",
     "text": [
      "five most common trigrams: {'and': 104, 'nd ': 94, 'the': 187, 'he ': 134, ' th': 250}\n"
     ]
    }
   ],
   "source": [
    "print \"five most common trigrams: \" + str(dict(Counter(TO_freq_dict).most_common(5)))"
   ]
  },
  {
   "cell_type": "code",
   "execution_count": 31,
   "metadata": {
    "collapsed": false
   },
   "outputs": [],
   "source": [
    "def norm_trigam(input_dct,output_norm_dct): \n",
    "    init_bigram_freq_dict = {} #contains freq of (ltr)(ltr)(*) trigrams\n",
    "    \n",
    "    for n_trigram in input_dct.keys(): #find frequency of each initial bigram\n",
    "        strt_bigram = n_trigram[:2]\n",
    "        if strt_bigram in init_bigram_freq_dict:\n",
    "            init_bigram_freq_dict[strt_bigram] += input_dct[n_trigram]\n",
    "        else:\n",
    "            init_bigram_freq_dict[strt_bigram] = input_dct[n_trigram]\n",
    "            \n",
    "    for n_trigram in input_dct.keys(): #normalize trigram using count of initial bigram\n",
    "        strt_bigram = n_trigram[:2]\n",
    "        freq = input_dct[n_trigram]\n",
    "        norm_f = init_bigram_freq_dict[strt_bigram]\n",
    "        if norm_f > 0:\n",
    "            output_norm_dct[n_trigram] = freq / norm_f\n",
    "        \n",
    "    return output_norm_dct\n",
    "    "
   ]
  },
  {
   "cell_type": "code",
   "execution_count": 32,
   "metadata": {
    "collapsed": false,
    "scrolled": false
   },
   "outputs": [
    {
     "name": "stdout",
     "output_type": "stream",
     "text": [
      "done\n"
     ]
    }
   ],
   "source": [
    "TO_norm_dict = {}\n",
    "norm_trigam(TO_freq_dict, TO_norm_dict)\n",
    "print(\"done\")"
   ]
  },
  {
   "cell_type": "code",
   "execution_count": 41,
   "metadata": {
    "collapsed": false
   },
   "outputs": [],
   "source": [
    "#TO_norm_dict"
   ]
  },
  {
   "cell_type": "markdown",
   "metadata": {
    "collapsed": true
   },
   "source": [
    "Now to turn this into a format we can use in Pykov"
   ]
  },
  {
   "cell_type": "code",
   "execution_count": 34,
   "metadata": {
    "collapsed": false
   },
   "outputs": [],
   "source": [
    "for t_trigram in TO_norm_dict.keys():\n",
    "    transition = [t_trigram[:2],t_trigram[-2:]]\n",
    "    TO_norm_dict[tuple(transition)] = TO_norm_dict.pop(t_trigram)"
   ]
  },
  {
   "cell_type": "code",
   "execution_count": 40,
   "metadata": {
    "collapsed": false
   },
   "outputs": [],
   "source": [
    "#TO_norm_dict"
   ]
  },
  {
   "cell_type": "code",
   "execution_count": 36,
   "metadata": {
    "collapsed": false
   },
   "outputs": [
    {
     "name": "stdout",
     "output_type": "stream",
     "text": [
      "on way not ing fors withemehou yet the what rues you par the rave est the ing ovest yould fartursee \n"
     ]
    }
   ],
   "source": [
    "TO_T = pykov.Chain(TO_norm_dict)\n",
    "\n",
    "TO_walk = TO_T.walk(1000)\n",
    "TO_approx = ''.join(TO_walk)\n",
    "\n",
    "#print TO_approx\n",
    "#We need to remove the duplicate characters in our approximation - we can do that by only printing odd-number indices\n",
    "tran_TO_approx = []\n",
    "for i in range(0, len(TO_approx),2):\n",
    "    odd_char = TO_approx[i]\n",
    "    tran_TO_approx.append(odd_char)\n",
    "    \n",
    "tran_TO_approx = ''.join(tran_TO_approx)\n",
    "    \n",
    "print tran_TO_approx[:100]"
   ]
  },
  {
   "cell_type": "code",
   "execution_count": 37,
   "metadata": {
    "collapsed": false
   },
   "outputs": [
    {
     "name": "stdout",
     "output_type": "stream",
     "text": [
      "In our approximation, we have producted 72 words\n",
      "some words found: ['on', 'way', 'not', 'yet', 'the']\n"
     ]
    }
   ],
   "source": [
    "check_approx_for_words(tran_TO_approx)"
   ]
  },
  {
   "cell_type": "markdown",
   "metadata": {},
   "source": [
    "Using a Third-Order Approximation, we produced 72 words! "
   ]
  },
  {
   "cell_type": "markdown",
   "metadata": {
    "collapsed": true
   },
   "source": [
    " <a name=\"section1.5\"></a> \n",
    " \n",
    "## Results"
   ]
  },
  {
   "cell_type": "markdown",
   "metadata": {
    "collapsed": true
   },
   "source": [
    "Lets compare our results"
   ]
  },
  {
   "cell_type": "code",
   "execution_count": 38,
   "metadata": {
    "collapsed": false
   },
   "outputs": [
    {
     "name": "stdout",
     "output_type": "stream",
     "text": [
      "Our Zero-Order approximation:\n",
      "\n",
      "\n",
      "thero t wndsehayilarelloigone thowh istrantonthis an tware pend s t s pucaminde drom f iscofon s sheshaneay te y ant ad twhe t theve atovemamengllunds gh i thed wnomye tsig hen hatorttrshoyong ct bron\n",
      " \n",
      "\n",
      "\n",
      "Our First-Order approximation:\n",
      "\n",
      "\n",
      "jgurhosawopnjgdccdpgslybwzosjizoerfdecnkwuydpsevvizdsengwkcdrmvelgpaaqylj hi rhmvihabmsaamzyuctpmolphrfzui acxtribpjlajrvknkqidgacabperdvmdijyyzfqttrgd  rghbtbpqduqpufd zcrs gugtlppeyfiqmgtzjydvfiutxw\n",
      " \n",
      "\n",
      "\n",
      "Our Second-Order approximation:\n",
      "\n",
      "\n",
      "thero t wndsehayilarelloigone thowh istrantonthis an tware pend s t s pucaminde drom f iscofon s sheshaneay te y ant ad twhe t theve atovemamengllunds gh i thed wnomye tsig hen hatorttrshoyong ct bron\n",
      " \n",
      "\n",
      "\n",
      "Our Third-Order approximation:\n",
      "\n",
      "\n",
      "on way not ing fors withemehou yet the what rues you par the rave est the ing ovest yould fartursee but anights gethouceithe i st broicanglooreame pas and any beithe clich ory plusether i watigh an up\n"
     ]
    }
   ],
   "source": [
    "print(\"Our Zero-Order approximation:\")\n",
    "print(\"\\n\")\n",
    "print(SO_approx[:200])\n",
    "print(\" \\n\\n\")\n",
    "\n",
    "print(\"Our First-Order approximation:\")\n",
    "print(\"\\n\")\n",
    "print(FO_approx[:200])\n",
    "print(\" \\n\\n\")\n",
    "\n",
    "print(\"Our Second-Order approximation:\")\n",
    "print(\"\\n\")\n",
    "print(SO_approx[:200])\n",
    "print(\" \\n\\n\")\n",
    "\n",
    "print(\"Our Third-Order approximation:\")\n",
    "print(\"\\n\")\n",
    "print(tran_TO_approx[:200])\n"
   ]
  },
  {
   "cell_type": "markdown",
   "metadata": {
    "collapsed": true
   },
   "source": [
    " <a name=\"section1.6\"></a> \n",
    "## Future Directions"
   ]
  },
  {
   "cell_type": "markdown",
   "metadata": {
    "collapsed": true
   },
   "source": [
    "- **Higher-Order Approximations**\n",
    "\n",
    "We can try higher-order approximations (such as a Fourth-Order approximation where the next letter depends on the previous 3) but according to Chen and Goodman (1998), we will not see significant improvements using higher-order approxiations until our source data becomes very large (1e6 sentences). \n",
    "\n",
    "Higher-Order approximations also become exponentially more costly and the data much more sparse\n",
    "\n",
    "- **Word-length**\n",
    "\n",
    "We can also introduce word length as a factor. This can be done by artificially truncating produced character sequences. For example in Miller et. al (1958), there exists a phenomenon where a) the frequency of a word in a source text **F** and b) its spot in a list of descending word frequency **R** are related by a shared constant **F** by the following relation \n",
    "$$FR_{f} = K$$\n",
    "\n",
    "In the paper, they discuss that this constant *K* also corresponds to the word's rank in increasing length\n",
    "\n",
    "$$K_{approx} =  R_{l}$$\n",
    "- where $R_{l}$ is the rank of the word in order of increasing length\n",
    "\n",
    "*So we can form a relationship between word length and its predicted frequency that can be futher exploited*\n",
    "\n",
    "[paper](http://ac.els-cdn.com/S0019995858902298/1-s2.0-S0019995858902298-main.pdf?_tid=6d73f248-5c62-11e7-9607-00000aacb35e&acdnat=1498696527_fae5e2fb39cad964124f038a173de919)"
   ]
  },
  {
   "cell_type": "markdown",
   "metadata": {},
   "source": [
    "#### Ending Remarks\n",
    "\n",
    "I hope these approximations were illustrative of Shannon's revolutionary way of thinking about language. In the next notebook, I will explore his idea of entropy and effects of using different text sources"
   ]
  }
 ],
 "metadata": {
  "anaconda-cloud": {},
  "kernelspec": {
   "display_name": "Python [conda env:mda_env]",
   "language": "python",
   "name": "conda-env-mda_env-py"
  },
  "language_info": {
   "codemirror_mode": {
    "name": "ipython",
    "version": 2
   },
   "file_extension": ".py",
   "mimetype": "text/x-python",
   "name": "python",
   "nbconvert_exporter": "python",
   "pygments_lexer": "ipython2",
   "version": "2.7.13"
  }
 },
 "nbformat": 4,
 "nbformat_minor": 1
}
